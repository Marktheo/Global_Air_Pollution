{
 "cells": [
  {
   "cell_type": "markdown",
   "id": "f2f69313",
   "metadata": {},
   "source": [
    "> # Global Air Polution\n",
    "> Working with Jupyter Notebooks"
   ]
  },
  {
   "cell_type": "markdown",
   "id": "12d4dd75",
   "metadata": {},
   "source": [
    "> Importing the packages into the notebook"
   ]
  },
  {
   "cell_type": "code",
   "execution_count": 1,
   "id": "2851d289",
   "metadata": {},
   "outputs": [],
   "source": [
    "import pandas as pd\n",
    "import numpy as np\n",
    "import matplotlib.pyplot as plt\n",
    "import seaborn as sb"
   ]
  },
  {
   "cell_type": "markdown",
   "id": "3781fb11",
   "metadata": {},
   "source": [
    "> ## Understanding the DataFrame\n",
    "> How many columns and lines does it have?"
   ]
  },
  {
   "cell_type": "markdown",
   "id": "b69a841d",
   "metadata": {},
   "source": [
    "> Importing the csv file to the dataframe"
   ]
  },
  {
   "cell_type": "code",
   "execution_count": 2,
   "id": "72427f55",
   "metadata": {},
   "outputs": [],
   "source": [
    "df = pd.read_csv(\"GAP Dataset.csv\")"
   ]
  },
  {
   "cell_type": "markdown",
   "id": "88296163",
   "metadata": {},
   "source": [
    "> Showing the first 5 dataframe rows"
   ]
  },
  {
   "cell_type": "code",
   "execution_count": 3,
   "id": "43cb7653",
   "metadata": {
    "scrolled": true
   },
   "outputs": [
    {
     "data": {
      "text/html": [
       "<div>\n",
       "<style scoped>\n",
       "    .dataframe tbody tr th:only-of-type {\n",
       "        vertical-align: middle;\n",
       "    }\n",
       "\n",
       "    .dataframe tbody tr th {\n",
       "        vertical-align: top;\n",
       "    }\n",
       "\n",
       "    .dataframe thead th {\n",
       "        text-align: right;\n",
       "    }\n",
       "</style>\n",
       "<table border=\"1\" class=\"dataframe\">\n",
       "  <thead>\n",
       "    <tr style=\"text-align: right;\">\n",
       "      <th></th>\n",
       "      <th>Country</th>\n",
       "      <th>City</th>\n",
       "      <th>AQI Value</th>\n",
       "      <th>AQI Category</th>\n",
       "      <th>CO AQI Value</th>\n",
       "      <th>CO AQI Category</th>\n",
       "      <th>Ozone AQI Value</th>\n",
       "      <th>Ozone AQI Category</th>\n",
       "      <th>NO2 AQI Value</th>\n",
       "      <th>NO2 AQI Category</th>\n",
       "      <th>PM2.5 AQI Value</th>\n",
       "      <th>PM2.5 AQI Category</th>\n",
       "    </tr>\n",
       "  </thead>\n",
       "  <tbody>\n",
       "    <tr>\n",
       "      <th>0</th>\n",
       "      <td>Russian Federation</td>\n",
       "      <td>Praskoveya</td>\n",
       "      <td>51</td>\n",
       "      <td>Moderate</td>\n",
       "      <td>1</td>\n",
       "      <td>Good</td>\n",
       "      <td>36</td>\n",
       "      <td>Good</td>\n",
       "      <td>0</td>\n",
       "      <td>Good</td>\n",
       "      <td>51</td>\n",
       "      <td>Moderate</td>\n",
       "    </tr>\n",
       "    <tr>\n",
       "      <th>1</th>\n",
       "      <td>Brazil</td>\n",
       "      <td>Presidente Dutra</td>\n",
       "      <td>41</td>\n",
       "      <td>Good</td>\n",
       "      <td>1</td>\n",
       "      <td>Good</td>\n",
       "      <td>5</td>\n",
       "      <td>Good</td>\n",
       "      <td>1</td>\n",
       "      <td>Good</td>\n",
       "      <td>41</td>\n",
       "      <td>Good</td>\n",
       "    </tr>\n",
       "    <tr>\n",
       "      <th>2</th>\n",
       "      <td>Italy</td>\n",
       "      <td>Priolo Gargallo</td>\n",
       "      <td>66</td>\n",
       "      <td>Moderate</td>\n",
       "      <td>1</td>\n",
       "      <td>Good</td>\n",
       "      <td>39</td>\n",
       "      <td>Good</td>\n",
       "      <td>2</td>\n",
       "      <td>Good</td>\n",
       "      <td>66</td>\n",
       "      <td>Moderate</td>\n",
       "    </tr>\n",
       "    <tr>\n",
       "      <th>3</th>\n",
       "      <td>Poland</td>\n",
       "      <td>Przasnysz</td>\n",
       "      <td>34</td>\n",
       "      <td>Good</td>\n",
       "      <td>1</td>\n",
       "      <td>Good</td>\n",
       "      <td>34</td>\n",
       "      <td>Good</td>\n",
       "      <td>0</td>\n",
       "      <td>Good</td>\n",
       "      <td>20</td>\n",
       "      <td>Good</td>\n",
       "    </tr>\n",
       "    <tr>\n",
       "      <th>4</th>\n",
       "      <td>France</td>\n",
       "      <td>Punaauia</td>\n",
       "      <td>22</td>\n",
       "      <td>Good</td>\n",
       "      <td>0</td>\n",
       "      <td>Good</td>\n",
       "      <td>22</td>\n",
       "      <td>Good</td>\n",
       "      <td>0</td>\n",
       "      <td>Good</td>\n",
       "      <td>6</td>\n",
       "      <td>Good</td>\n",
       "    </tr>\n",
       "  </tbody>\n",
       "</table>\n",
       "</div>"
      ],
      "text/plain": [
       "              Country              City  AQI Value AQI Category  CO AQI Value  \\\n",
       "0  Russian Federation        Praskoveya         51     Moderate             1   \n",
       "1              Brazil  Presidente Dutra         41         Good             1   \n",
       "2               Italy   Priolo Gargallo         66     Moderate             1   \n",
       "3              Poland         Przasnysz         34         Good             1   \n",
       "4              France          Punaauia         22         Good             0   \n",
       "\n",
       "  CO AQI Category  Ozone AQI Value Ozone AQI Category  NO2 AQI Value  \\\n",
       "0            Good               36               Good              0   \n",
       "1            Good                5               Good              1   \n",
       "2            Good               39               Good              2   \n",
       "3            Good               34               Good              0   \n",
       "4            Good               22               Good              0   \n",
       "\n",
       "  NO2 AQI Category  PM2.5 AQI Value PM2.5 AQI Category  \n",
       "0             Good               51           Moderate  \n",
       "1             Good               41               Good  \n",
       "2             Good               66           Moderate  \n",
       "3             Good               20               Good  \n",
       "4             Good                6               Good  "
      ]
     },
     "execution_count": 3,
     "metadata": {},
     "output_type": "execute_result"
    }
   ],
   "source": [
    "df.head()"
   ]
  },
  {
   "cell_type": "markdown",
   "id": "c57f077c",
   "metadata": {},
   "source": [
    "> Showing the dataframe columns"
   ]
  },
  {
   "cell_type": "code",
   "execution_count": 4,
   "id": "e0b1401e",
   "metadata": {},
   "outputs": [
    {
     "data": {
      "text/plain": [
       "Index(['Country', 'City', 'AQI Value', 'AQI Category', 'CO AQI Value',\n",
       "       'CO AQI Category', 'Ozone AQI Value', 'Ozone AQI Category',\n",
       "       'NO2 AQI Value', 'NO2 AQI Category', 'PM2.5 AQI Value',\n",
       "       'PM2.5 AQI Category'],\n",
       "      dtype='object')"
      ]
     },
     "execution_count": 4,
     "metadata": {},
     "output_type": "execute_result"
    }
   ],
   "source": [
    "df.columns"
   ]
  },
  {
   "cell_type": "markdown",
   "id": "d591965b",
   "metadata": {},
   "source": [
    "> Showing how much rows the dataframe has"
   ]
  },
  {
   "cell_type": "code",
   "execution_count": 5,
   "id": "97348c19",
   "metadata": {},
   "outputs": [
    {
     "data": {
      "text/plain": [
       "RangeIndex(start=0, stop=23463, step=1)"
      ]
     },
     "execution_count": 5,
     "metadata": {},
     "output_type": "execute_result"
    }
   ],
   "source": [
    "df.index"
   ]
  },
  {
   "cell_type": "markdown",
   "id": "cf0a0404",
   "metadata": {},
   "source": [
    "> Showing info about the dataframe\n",
    "\n",
    "> Notice that there are 427 countries missing\n",
    "> <br>\n",
    "> Besides, there is 1 unidentified city"
   ]
  },
  {
   "cell_type": "code",
   "execution_count": 6,
   "id": "ec89f4ec",
   "metadata": {
    "scrolled": false
   },
   "outputs": [
    {
     "name": "stdout",
     "output_type": "stream",
     "text": [
      "<class 'pandas.core.frame.DataFrame'>\n",
      "RangeIndex: 23463 entries, 0 to 23462\n",
      "Data columns (total 12 columns):\n",
      " #   Column              Non-Null Count  Dtype \n",
      "---  ------              --------------  ----- \n",
      " 0   Country             23036 non-null  object\n",
      " 1   City                23462 non-null  object\n",
      " 2   AQI Value           23463 non-null  int64 \n",
      " 3   AQI Category        23463 non-null  object\n",
      " 4   CO AQI Value        23463 non-null  int64 \n",
      " 5   CO AQI Category     23463 non-null  object\n",
      " 6   Ozone AQI Value     23463 non-null  int64 \n",
      " 7   Ozone AQI Category  23463 non-null  object\n",
      " 8   NO2 AQI Value       23463 non-null  int64 \n",
      " 9   NO2 AQI Category    23463 non-null  object\n",
      " 10  PM2.5 AQI Value     23463 non-null  int64 \n",
      " 11  PM2.5 AQI Category  23463 non-null  object\n",
      "dtypes: int64(5), object(7)\n",
      "memory usage: 2.1+ MB\n"
     ]
    }
   ],
   "source": [
    "df.info()"
   ]
  },
  {
   "cell_type": "markdown",
   "id": "fedc460f",
   "metadata": {},
   "source": [
    "> ## DataFrame Description\n",
    "> How does the data behave across the table?"
   ]
  },
  {
   "cell_type": "markdown",
   "id": "e2ee507e",
   "metadata": {},
   "source": [
    "> Showing dataframe statistic description\n",
    "\n",
    "> Notice that categories are not being described\n",
    "> <br>\n",
    "> It happens because the category values are strings"
   ]
  },
  {
   "cell_type": "code",
   "execution_count": 7,
   "id": "3ceb5174",
   "metadata": {
    "scrolled": true
   },
   "outputs": [
    {
     "data": {
      "text/html": [
       "<div>\n",
       "<style scoped>\n",
       "    .dataframe tbody tr th:only-of-type {\n",
       "        vertical-align: middle;\n",
       "    }\n",
       "\n",
       "    .dataframe tbody tr th {\n",
       "        vertical-align: top;\n",
       "    }\n",
       "\n",
       "    .dataframe thead th {\n",
       "        text-align: right;\n",
       "    }\n",
       "</style>\n",
       "<table border=\"1\" class=\"dataframe\">\n",
       "  <thead>\n",
       "    <tr style=\"text-align: right;\">\n",
       "      <th></th>\n",
       "      <th>AQI Value</th>\n",
       "      <th>CO AQI Value</th>\n",
       "      <th>Ozone AQI Value</th>\n",
       "      <th>NO2 AQI Value</th>\n",
       "      <th>PM2.5 AQI Value</th>\n",
       "    </tr>\n",
       "  </thead>\n",
       "  <tbody>\n",
       "    <tr>\n",
       "      <th>count</th>\n",
       "      <td>23463.000000</td>\n",
       "      <td>23463.000000</td>\n",
       "      <td>23463.000000</td>\n",
       "      <td>23463.000000</td>\n",
       "      <td>23463.000000</td>\n",
       "    </tr>\n",
       "    <tr>\n",
       "      <th>mean</th>\n",
       "      <td>72.010868</td>\n",
       "      <td>1.368367</td>\n",
       "      <td>35.193709</td>\n",
       "      <td>3.063334</td>\n",
       "      <td>68.519755</td>\n",
       "    </tr>\n",
       "    <tr>\n",
       "      <th>std</th>\n",
       "      <td>56.055220</td>\n",
       "      <td>1.832064</td>\n",
       "      <td>28.098723</td>\n",
       "      <td>5.254108</td>\n",
       "      <td>54.796443</td>\n",
       "    </tr>\n",
       "    <tr>\n",
       "      <th>min</th>\n",
       "      <td>6.000000</td>\n",
       "      <td>0.000000</td>\n",
       "      <td>0.000000</td>\n",
       "      <td>0.000000</td>\n",
       "      <td>0.000000</td>\n",
       "    </tr>\n",
       "    <tr>\n",
       "      <th>25%</th>\n",
       "      <td>39.000000</td>\n",
       "      <td>1.000000</td>\n",
       "      <td>21.000000</td>\n",
       "      <td>0.000000</td>\n",
       "      <td>35.000000</td>\n",
       "    </tr>\n",
       "    <tr>\n",
       "      <th>50%</th>\n",
       "      <td>55.000000</td>\n",
       "      <td>1.000000</td>\n",
       "      <td>31.000000</td>\n",
       "      <td>1.000000</td>\n",
       "      <td>54.000000</td>\n",
       "    </tr>\n",
       "    <tr>\n",
       "      <th>75%</th>\n",
       "      <td>79.000000</td>\n",
       "      <td>1.000000</td>\n",
       "      <td>40.000000</td>\n",
       "      <td>4.000000</td>\n",
       "      <td>79.000000</td>\n",
       "    </tr>\n",
       "    <tr>\n",
       "      <th>max</th>\n",
       "      <td>500.000000</td>\n",
       "      <td>133.000000</td>\n",
       "      <td>235.000000</td>\n",
       "      <td>91.000000</td>\n",
       "      <td>500.000000</td>\n",
       "    </tr>\n",
       "  </tbody>\n",
       "</table>\n",
       "</div>"
      ],
      "text/plain": [
       "          AQI Value  CO AQI Value  Ozone AQI Value  NO2 AQI Value  \\\n",
       "count  23463.000000  23463.000000     23463.000000   23463.000000   \n",
       "mean      72.010868      1.368367        35.193709       3.063334   \n",
       "std       56.055220      1.832064        28.098723       5.254108   \n",
       "min        6.000000      0.000000         0.000000       0.000000   \n",
       "25%       39.000000      1.000000        21.000000       0.000000   \n",
       "50%       55.000000      1.000000        31.000000       1.000000   \n",
       "75%       79.000000      1.000000        40.000000       4.000000   \n",
       "max      500.000000    133.000000       235.000000      91.000000   \n",
       "\n",
       "       PM2.5 AQI Value  \n",
       "count     23463.000000  \n",
       "mean         68.519755  \n",
       "std          54.796443  \n",
       "min           0.000000  \n",
       "25%          35.000000  \n",
       "50%          54.000000  \n",
       "75%          79.000000  \n",
       "max         500.000000  "
      ]
     },
     "execution_count": 7,
     "metadata": {},
     "output_type": "execute_result"
    }
   ],
   "source": [
    "df.describe()"
   ]
  },
  {
   "cell_type": "markdown",
   "id": "2b5d470a",
   "metadata": {},
   "source": [
    "> ## Category Unique Values\n",
    "> How does the dataframe deal with the numbers?"
   ]
  },
  {
   "cell_type": "markdown",
   "id": "c6929683",
   "metadata": {},
   "source": [
    "> Showing which categories each column has  "
   ]
  },
  {
   "cell_type": "code",
   "execution_count": 8,
   "id": "273f9bc1",
   "metadata": {
    "scrolled": true
   },
   "outputs": [
    {
     "data": {
      "text/plain": [
       "array(['Moderate', 'Good', 'Unhealthy for Sensitive Groups', 'Unhealthy',\n",
       "       'Very Unhealthy', 'Hazardous'], dtype=object)"
      ]
     },
     "execution_count": 8,
     "metadata": {},
     "output_type": "execute_result"
    }
   ],
   "source": [
    "df['AQI Category'].unique()"
   ]
  },
  {
   "cell_type": "code",
   "execution_count": 9,
   "id": "560ec3b4",
   "metadata": {},
   "outputs": [
    {
     "data": {
      "text/plain": [
       "array(['Good', 'Unhealthy for Sensitive Groups', 'Moderate'], dtype=object)"
      ]
     },
     "execution_count": 9,
     "metadata": {},
     "output_type": "execute_result"
    }
   ],
   "source": [
    "df['CO AQI Category'].unique()"
   ]
  },
  {
   "cell_type": "code",
   "execution_count": 10,
   "id": "80fd285e",
   "metadata": {},
   "outputs": [
    {
     "data": {
      "text/plain": [
       "array(['Good', 'Moderate', 'Unhealthy for Sensitive Groups', 'Unhealthy',\n",
       "       'Very Unhealthy'], dtype=object)"
      ]
     },
     "execution_count": 10,
     "metadata": {},
     "output_type": "execute_result"
    }
   ],
   "source": [
    "df['Ozone AQI Category'].unique()"
   ]
  },
  {
   "cell_type": "code",
   "execution_count": 11,
   "id": "b551596b",
   "metadata": {},
   "outputs": [
    {
     "data": {
      "text/plain": [
       "array(['Good', 'Moderate'], dtype=object)"
      ]
     },
     "execution_count": 11,
     "metadata": {},
     "output_type": "execute_result"
    }
   ],
   "source": [
    "df['NO2 AQI Category'].unique()"
   ]
  },
  {
   "cell_type": "code",
   "execution_count": 12,
   "id": "55f4e5bb",
   "metadata": {},
   "outputs": [
    {
     "data": {
      "text/plain": [
       "array(['Moderate', 'Good', 'Unhealthy for Sensitive Groups', 'Unhealthy',\n",
       "       'Very Unhealthy', 'Hazardous'], dtype=object)"
      ]
     },
     "execution_count": 12,
     "metadata": {},
     "output_type": "execute_result"
    }
   ],
   "source": [
    "df['PM2.5 AQI Category'].unique()"
   ]
  },
  {
   "cell_type": "code",
   "execution_count": 13,
   "id": "f33b9eba",
   "metadata": {},
   "outputs": [
    {
     "data": {
      "text/plain": [
       "0"
      ]
     },
     "execution_count": 13,
     "metadata": {},
     "output_type": "execute_result"
    }
   ],
   "source": [
    "df.duplicated().sum()"
   ]
  },
  {
   "cell_type": "markdown",
   "id": "e77c0a61",
   "metadata": {},
   "source": [
    "> ## Category Frequency Count\n",
    "> How many times does each value appear?"
   ]
  },
  {
   "cell_type": "markdown",
   "id": "e28b090e",
   "metadata": {},
   "source": [
    "> Showing how many times each category value appears across the columns"
   ]
  },
  {
   "cell_type": "code",
   "execution_count": 14,
   "id": "e2f9487e",
   "metadata": {},
   "outputs": [
    {
     "data": {
      "text/plain": [
       "Good                              9936\n",
       "Moderate                          9231\n",
       "Unhealthy                         2227\n",
       "Unhealthy for Sensitive Groups    1591\n",
       "Very Unhealthy                     287\n",
       "Hazardous                          191\n",
       "Name: AQI Category, dtype: int64"
      ]
     },
     "execution_count": 14,
     "metadata": {},
     "output_type": "execute_result"
    }
   ],
   "source": [
    "df['AQI Category'].value_counts()"
   ]
  },
  {
   "cell_type": "code",
   "execution_count": 15,
   "id": "0bf33e5d",
   "metadata": {},
   "outputs": [
    {
     "data": {
      "text/plain": [
       "Good                              23460\n",
       "Moderate                              2\n",
       "Unhealthy for Sensitive Groups        1\n",
       "Name: CO AQI Category, dtype: int64"
      ]
     },
     "execution_count": 15,
     "metadata": {},
     "output_type": "execute_result"
    }
   ],
   "source": [
    "df['CO AQI Category'].value_counts()"
   ]
  },
  {
   "cell_type": "code",
   "execution_count": 16,
   "id": "cf79ebe6",
   "metadata": {
    "scrolled": true
   },
   "outputs": [
    {
     "data": {
      "text/plain": [
       "Good                              21069\n",
       "Moderate                           1445\n",
       "Unhealthy for Sensitive Groups      491\n",
       "Unhealthy                           405\n",
       "Very Unhealthy                       53\n",
       "Name: Ozone AQI Category, dtype: int64"
      ]
     },
     "execution_count": 16,
     "metadata": {},
     "output_type": "execute_result"
    }
   ],
   "source": [
    "df['Ozone AQI Category'].value_counts()"
   ]
  },
  {
   "cell_type": "code",
   "execution_count": 17,
   "id": "74e3a750",
   "metadata": {},
   "outputs": [
    {
     "data": {
      "text/plain": [
       "Good        23448\n",
       "Moderate       15\n",
       "Name: NO2 AQI Category, dtype: int64"
      ]
     },
     "execution_count": 17,
     "metadata": {},
     "output_type": "execute_result"
    }
   ],
   "source": [
    "df['NO2 AQI Category'].value_counts()"
   ]
  },
  {
   "cell_type": "code",
   "execution_count": 18,
   "id": "4a12d4fc",
   "metadata": {},
   "outputs": [
    {
     "data": {
      "text/plain": [
       "Good                              10208\n",
       "Moderate                           9075\n",
       "Unhealthy                          2129\n",
       "Unhealthy for Sensitive Groups     1624\n",
       "Very Unhealthy                      255\n",
       "Hazardous                           172\n",
       "Name: PM2.5 AQI Category, dtype: int64"
      ]
     },
     "execution_count": 18,
     "metadata": {},
     "output_type": "execute_result"
    }
   ],
   "source": [
    "df['PM2.5 AQI Category'].value_counts()"
   ]
  },
  {
   "cell_type": "markdown",
   "id": "11ab563f",
   "metadata": {},
   "source": [
    "> ## Plotting Bar Graphs\n",
    "> How can we analyze the numbers in a better way?"
   ]
  },
  {
   "cell_type": "markdown",
   "id": "dc3d4bb9",
   "metadata": {},
   "source": [
    "> Notice that most cities have good or moderate AQI values"
   ]
  },
  {
   "cell_type": "code",
   "execution_count": 19,
   "id": "169564bd",
   "metadata": {},
   "outputs": [
    {
     "data": {
      "text/plain": [
       "Text(0, 0.5, 'Category')"
      ]
     },
     "execution_count": 19,
     "metadata": {},
     "output_type": "execute_result"
    },
    {
     "data": {
      "image/png": "[encoded data removed]",
      "text/plain": [
       "<Figure size 640x480 with 1 Axes>"
      ]
     },
     "metadata": {},
     "output_type": "display_data"
    }
   ],
   "source": [
    "order_list = ['Good', 'Moderate', 'Unhealthy for Sensitive Groups', 'Unhealthy', 'Very Unhealthy', 'Hazardous']\n",
    "colors = ['#A6CE39', '#FFF200', '#F7901E', '#ED1D24', '#A2064A', '#891A1C']\n",
    "sb.set_palette(sb.color_palette(colors))\n",
    "plt1 = sb.countplot(y=df['AQI Category'], order=order_list)\n",
    "plt1.set_title('AQI Bar Graph')\n",
    "plt1.set_xlabel('Number of Cities')\n",
    "plt1.set_ylabel('Category')"
   ]
  },
  {
   "cell_type": "markdown",
   "id": "f9b5fccc",
   "metadata": {},
   "source": [
    "> Notice that \"all\" the cities have good CO AQI values"
   ]
  },
  {
   "cell_type": "code",
   "execution_count": 20,
   "id": "1edd0230",
   "metadata": {},
   "outputs": [
    {
     "data": {
      "text/plain": [
       "Text(0, 0.5, 'Category')"
      ]
     },
     "execution_count": 20,
     "metadata": {},
     "output_type": "execute_result"
    },
    {
     "data": {
      "image/png": "[encoded data removed]",
      "text/plain": [
       "<Figure size 640x480 with 1 Axes>"
      ]
     },
     "metadata": {},
     "output_type": "display_data"
    }
   ],
   "source": [
    "order_list = ['Good', 'Moderate', 'Unhealthy for Sensitive Groups', 'Unhealthy', 'Very Unhealthy', 'Hazardous']\n",
    "colors = ['#A6CE39', '#FFF200', '#F7901E', '#ED1D24', '#A2064A', '#891A1C']\n",
    "sb.set_palette(sb.color_palette(colors))\n",
    "plt1 = sb.countplot(y=df['CO AQI Category'], order=order_list)\n",
    "plt1.set_title('Carbon Monoxide AQI Bar Graph')\n",
    "plt1.set_xlabel('Number of Cities')\n",
    "plt1.set_ylabel('Category')"
   ]
  },
  {
   "cell_type": "markdown",
   "id": "9d3ba9fa",
   "metadata": {},
   "source": [
    "> Notice that most cites have good Ozone AQI values"
   ]
  },
  {
   "cell_type": "code",
   "execution_count": 21,
   "id": "79619ddf",
   "metadata": {},
   "outputs": [
    {
     "data": {
      "text/plain": [
       "Text(0, 0.5, 'Category')"
      ]
     },
     "execution_count": 21,
     "metadata": {},
     "output_type": "execute_result"
    },
    {
     "data": {
      "image/png": "[encoded data removed]",
      "text/plain": [
       "<Figure size 640x480 with 1 Axes>"
      ]
     },
     "metadata": {},
     "output_type": "display_data"
    }
   ],
   "source": [
    "order_list = ['Good', 'Moderate', 'Unhealthy for Sensitive Groups', 'Unhealthy', 'Very Unhealthy', 'Hazardous']\n",
    "colors = ['#A6CE39', '#FFF200', '#F7901E', '#ED1D24', '#A2064A', '#891A1C']\n",
    "sb.set_palette(sb.color_palette(colors))\n",
    "plt1 = sb.countplot(y=df['Ozone AQI Category'], order=order_list)\n",
    "plt1.set_title('Ozone AQI Bar Graph')\n",
    "plt1.set_xlabel('Number of Cities')\n",
    "plt1.set_ylabel('Category')"
   ]
  },
  {
   "cell_type": "markdown",
   "id": "ae6e6035",
   "metadata": {},
   "source": [
    "> Notice that \"all\" the cities have good NO2 AQI values"
   ]
  },
  {
   "cell_type": "code",
   "execution_count": 22,
   "id": "9731e978",
   "metadata": {},
   "outputs": [
    {
     "data": {
      "text/plain": [
       "Text(0, 0.5, 'Category')"
      ]
     },
     "execution_count": 22,
     "metadata": {},
     "output_type": "execute_result"
    },
    {
     "data": {
      "image/png": "[encoded data removed]",
      "text/plain": [
       "<Figure size 640x480 with 1 Axes>"
      ]
     },
     "metadata": {},
     "output_type": "display_data"
    }
   ],
   "source": [
    "order_list = ['Good', 'Moderate', 'Unhealthy for Sensitive Groups', 'Unhealthy', 'Very Unhealthy', 'Hazardous']\n",
    "colors = ['#A6CE39', '#FFF200', '#F7901E', '#ED1D24', '#A2064A', '#891A1C']\n",
    "sb.set_palette(sb.color_palette(colors))\n",
    "plt1 = sb.countplot(y=df['NO2 AQI Category'], order=order_list)\n",
    "plt1.set_title('Nitrogen Dioxode AQI Bar Graph')\n",
    "plt1.set_xlabel('Number of Cities')\n",
    "plt1.set_ylabel('Category')"
   ]
  },
  {
   "cell_type": "markdown",
   "id": "b74f48ff",
   "metadata": {},
   "source": [
    "> Notice that most cities have good or moderate PM2.5 AQI values"
   ]
  },
  {
   "cell_type": "code",
   "execution_count": 23,
   "id": "83ac20e8",
   "metadata": {},
   "outputs": [
    {
     "data": {
      "text/plain": [
       "Text(0, 0.5, 'Category')"
      ]
     },
     "execution_count": 23,
     "metadata": {},
     "output_type": "execute_result"
    },
    {
     "data": {
      "image/png": "[encoded data removed]",
      "text/plain": [
       "<Figure size 640x480 with 1 Axes>"
      ]
     },
     "metadata": {},
     "output_type": "display_data"
    }
   ],
   "source": [
    "order_list = ['Good', 'Moderate', 'Unhealthy for Sensitive Groups', 'Unhealthy', 'Very Unhealthy', 'Hazardous']\n",
    "colors = ['#A6CE39', '#FFF200', '#F7901E', '#ED1D24', '#A2064A', '#891A1C']\n",
    "sb.set_palette(sb.color_palette(colors))\n",
    "plt1 = sb.countplot(y=df['PM2.5 AQI Category'], order=order_list)\n",
    "plt1.set_title('Particle Matter AQI Bar Graph')\n",
    "plt1.set_xlabel('Number of Cities')\n",
    "plt1.set_ylabel('Category')"
   ]
  },
  {
   "cell_type": "markdown",
   "id": "25a39082",
   "metadata": {},
   "source": [
    "> ## Dropping Unnecessary Columns\n",
    "> Which columns do not affect the decision we're gonna take?"
   ]
  },
  {
   "cell_type": "markdown",
   "id": "bc51a43d",
   "metadata": {},
   "source": [
    "> Observing the barplots above, we've to agree that both CO and NO2 values do not affect the analysis\n",
    "> <br>\n",
    "> \"All\" the cities have good metrics for this two gases\n",
    "> <br>\n",
    "> Therefore, let's drop the columns related to them"
   ]
  },
  {
   "cell_type": "code",
   "execution_count": 24,
   "id": "8fb1e70f",
   "metadata": {},
   "outputs": [
    {
     "data": {
      "text/html": [
       "<div>\n",
       "<style scoped>\n",
       "    .dataframe tbody tr th:only-of-type {\n",
       "        vertical-align: middle;\n",
       "    }\n",
       "\n",
       "    .dataframe tbody tr th {\n",
       "        vertical-align: top;\n",
       "    }\n",
       "\n",
       "    .dataframe thead th {\n",
       "        text-align: right;\n",
       "    }\n",
       "</style>\n",
       "<table border=\"1\" class=\"dataframe\">\n",
       "  <thead>\n",
       "    <tr style=\"text-align: right;\">\n",
       "      <th></th>\n",
       "      <th>Country</th>\n",
       "      <th>City</th>\n",
       "      <th>AQI Value</th>\n",
       "      <th>AQI Category</th>\n",
       "      <th>Ozone AQI Value</th>\n",
       "      <th>Ozone AQI Category</th>\n",
       "      <th>PM2.5 AQI Value</th>\n",
       "      <th>PM2.5 AQI Category</th>\n",
       "    </tr>\n",
       "  </thead>\n",
       "  <tbody>\n",
       "    <tr>\n",
       "      <th>0</th>\n",
       "      <td>Russian Federation</td>\n",
       "      <td>Praskoveya</td>\n",
       "      <td>51</td>\n",
       "      <td>Moderate</td>\n",
       "      <td>36</td>\n",
       "      <td>Good</td>\n",
       "      <td>51</td>\n",
       "      <td>Moderate</td>\n",
       "    </tr>\n",
       "    <tr>\n",
       "      <th>1</th>\n",
       "      <td>Brazil</td>\n",
       "      <td>Presidente Dutra</td>\n",
       "      <td>41</td>\n",
       "      <td>Good</td>\n",
       "      <td>5</td>\n",
       "      <td>Good</td>\n",
       "      <td>41</td>\n",
       "      <td>Good</td>\n",
       "    </tr>\n",
       "    <tr>\n",
       "      <th>2</th>\n",
       "      <td>Italy</td>\n",
       "      <td>Priolo Gargallo</td>\n",
       "      <td>66</td>\n",
       "      <td>Moderate</td>\n",
       "      <td>39</td>\n",
       "      <td>Good</td>\n",
       "      <td>66</td>\n",
       "      <td>Moderate</td>\n",
       "    </tr>\n",
       "    <tr>\n",
       "      <th>3</th>\n",
       "      <td>Poland</td>\n",
       "      <td>Przasnysz</td>\n",
       "      <td>34</td>\n",
       "      <td>Good</td>\n",
       "      <td>34</td>\n",
       "      <td>Good</td>\n",
       "      <td>20</td>\n",
       "      <td>Good</td>\n",
       "    </tr>\n",
       "    <tr>\n",
       "      <th>4</th>\n",
       "      <td>France</td>\n",
       "      <td>Punaauia</td>\n",
       "      <td>22</td>\n",
       "      <td>Good</td>\n",
       "      <td>22</td>\n",
       "      <td>Good</td>\n",
       "      <td>6</td>\n",
       "      <td>Good</td>\n",
       "    </tr>\n",
       "  </tbody>\n",
       "</table>\n",
       "</div>"
      ],
      "text/plain": [
       "              Country              City  AQI Value AQI Category  \\\n",
       "0  Russian Federation        Praskoveya         51     Moderate   \n",
       "1              Brazil  Presidente Dutra         41         Good   \n",
       "2               Italy   Priolo Gargallo         66     Moderate   \n",
       "3              Poland         Przasnysz         34         Good   \n",
       "4              France          Punaauia         22         Good   \n",
       "\n",
       "   Ozone AQI Value Ozone AQI Category  PM2.5 AQI Value PM2.5 AQI Category  \n",
       "0               36               Good               51           Moderate  \n",
       "1                5               Good               41               Good  \n",
       "2               39               Good               66           Moderate  \n",
       "3               34               Good               20               Good  \n",
       "4               22               Good                6               Good  "
      ]
     },
     "execution_count": 24,
     "metadata": {},
     "output_type": "execute_result"
    }
   ],
   "source": [
    "df = df.drop(columns=['CO AQI Value', 'CO AQI Category', 'NO2 AQI Value', 'NO2 AQI Category'])\n",
    "df.head()"
   ]
  },
  {
   "cell_type": "markdown",
   "id": "3a624c08",
   "metadata": {},
   "source": [
    "> ## Organizing the DataFrame\n",
    "> How can we visualize the table in a better way?"
   ]
  },
  {
   "cell_type": "markdown",
   "id": "5b1408cd",
   "metadata": {},
   "source": [
    "> Let's start ordering the dataframe by the best AQI values"
   ]
  },
  {
   "cell_type": "code",
   "execution_count": 25,
   "id": "db35e212",
   "metadata": {
    "scrolled": true
   },
   "outputs": [
    {
     "data": {
      "text/html": [
       "<div>\n",
       "<style scoped>\n",
       "    .dataframe tbody tr th:only-of-type {\n",
       "        vertical-align: middle;\n",
       "    }\n",
       "\n",
       "    .dataframe tbody tr th {\n",
       "        vertical-align: top;\n",
       "    }\n",
       "\n",
       "    .dataframe thead th {\n",
       "        text-align: right;\n",
       "    }\n",
       "</style>\n",
       "<table border=\"1\" class=\"dataframe\">\n",
       "  <thead>\n",
       "    <tr style=\"text-align: right;\">\n",
       "      <th></th>\n",
       "      <th>Country</th>\n",
       "      <th>City</th>\n",
       "      <th>AQI Value</th>\n",
       "      <th>AQI Category</th>\n",
       "      <th>Ozone AQI Value</th>\n",
       "      <th>Ozone AQI Category</th>\n",
       "      <th>PM2.5 AQI Value</th>\n",
       "      <th>PM2.5 AQI Category</th>\n",
       "    </tr>\n",
       "  </thead>\n",
       "  <tbody>\n",
       "    <tr>\n",
       "      <th>512</th>\n",
       "      <td>Bolivia (Plurinational State of)</td>\n",
       "      <td>El Torno</td>\n",
       "      <td>6</td>\n",
       "      <td>Good</td>\n",
       "      <td>5</td>\n",
       "      <td>Good</td>\n",
       "      <td>6</td>\n",
       "      <td>Good</td>\n",
       "    </tr>\n",
       "    <tr>\n",
       "      <th>9194</th>\n",
       "      <td>Ecuador</td>\n",
       "      <td>Macas</td>\n",
       "      <td>7</td>\n",
       "      <td>Good</td>\n",
       "      <td>7</td>\n",
       "      <td>Good</td>\n",
       "      <td>7</td>\n",
       "      <td>Good</td>\n",
       "    </tr>\n",
       "    <tr>\n",
       "      <th>23269</th>\n",
       "      <td>Papua New Guinea</td>\n",
       "      <td>Tari</td>\n",
       "      <td>8</td>\n",
       "      <td>Good</td>\n",
       "      <td>8</td>\n",
       "      <td>Good</td>\n",
       "      <td>7</td>\n",
       "      <td>Good</td>\n",
       "    </tr>\n",
       "    <tr>\n",
       "      <th>14502</th>\n",
       "      <td>Ecuador</td>\n",
       "      <td>Azogues</td>\n",
       "      <td>8</td>\n",
       "      <td>Good</td>\n",
       "      <td>7</td>\n",
       "      <td>Good</td>\n",
       "      <td>8</td>\n",
       "      <td>Good</td>\n",
       "    </tr>\n",
       "    <tr>\n",
       "      <th>7486</th>\n",
       "      <td>Peru</td>\n",
       "      <td>Huaraz</td>\n",
       "      <td>9</td>\n",
       "      <td>Good</td>\n",
       "      <td>9</td>\n",
       "      <td>Good</td>\n",
       "      <td>8</td>\n",
       "      <td>Good</td>\n",
       "    </tr>\n",
       "  </tbody>\n",
       "</table>\n",
       "</div>"
      ],
      "text/plain": [
       "                                Country      City  AQI Value AQI Category  \\\n",
       "512    Bolivia (Plurinational State of)  El Torno          6         Good   \n",
       "9194                            Ecuador     Macas          7         Good   \n",
       "23269                  Papua New Guinea      Tari          8         Good   \n",
       "14502                           Ecuador   Azogues          8         Good   \n",
       "7486                               Peru    Huaraz          9         Good   \n",
       "\n",
       "       Ozone AQI Value Ozone AQI Category  PM2.5 AQI Value PM2.5 AQI Category  \n",
       "512                  5               Good                6               Good  \n",
       "9194                 7               Good                7               Good  \n",
       "23269                8               Good                7               Good  \n",
       "14502                7               Good                8               Good  \n",
       "7486                 9               Good                8               Good  "
      ]
     },
     "execution_count": 25,
     "metadata": {},
     "output_type": "execute_result"
    }
   ],
   "source": [
    "df = df.sort_values(by=['AQI Value', 'PM2.5 AQI Value', 'Ozone AQI Value'])\n",
    "df.head()"
   ]
  },
  {
   "cell_type": "markdown",
   "id": "66c72137",
   "metadata": {},
   "source": [
    "> ### Turning the DataFrame into a Matrix\n",
    "> How can we simplify the table?"
   ]
  },
  {
   "cell_type": "markdown",
   "id": "0071ca12",
   "metadata": {},
   "source": [
    "> Let's replace the strings by numbers, turning the table more like a matrix"
   ]
  },
  {
   "cell_type": "code",
   "execution_count": 26,
   "id": "3618341f",
   "metadata": {},
   "outputs": [
    {
     "data": {
      "text/html": [
       "<div>\n",
       "<style scoped>\n",
       "    .dataframe tbody tr th:only-of-type {\n",
       "        vertical-align: middle;\n",
       "    }\n",
       "\n",
       "    .dataframe tbody tr th {\n",
       "        vertical-align: top;\n",
       "    }\n",
       "\n",
       "    .dataframe thead th {\n",
       "        text-align: right;\n",
       "    }\n",
       "</style>\n",
       "<table border=\"1\" class=\"dataframe\">\n",
       "  <thead>\n",
       "    <tr style=\"text-align: right;\">\n",
       "      <th></th>\n",
       "      <th>AQI Value</th>\n",
       "      <th>AQI Category</th>\n",
       "      <th>Ozone AQI Value</th>\n",
       "      <th>Ozone AQI Category</th>\n",
       "      <th>PM2.5 AQI Value</th>\n",
       "      <th>PM2.5 AQI Category</th>\n",
       "    </tr>\n",
       "  </thead>\n",
       "  <tbody>\n",
       "    <tr>\n",
       "      <th>count</th>\n",
       "      <td>23463.000000</td>\n",
       "      <td>23463.000000</td>\n",
       "      <td>23463.000000</td>\n",
       "      <td>23463.000000</td>\n",
       "      <td>23463.000000</td>\n",
       "      <td>23463.000000</td>\n",
       "    </tr>\n",
       "    <tr>\n",
       "      <th>mean</th>\n",
       "      <td>72.010868</td>\n",
       "      <td>0.903422</td>\n",
       "      <td>35.193709</td>\n",
       "      <td>0.164259</td>\n",
       "      <td>68.519755</td>\n",
       "      <td>0.877552</td>\n",
       "    </tr>\n",
       "    <tr>\n",
       "      <th>std</th>\n",
       "      <td>56.055220</td>\n",
       "      <td>1.049763</td>\n",
       "      <td>28.098723</td>\n",
       "      <td>0.556613</td>\n",
       "      <td>54.796443</td>\n",
       "      <td>1.033148</td>\n",
       "    </tr>\n",
       "    <tr>\n",
       "      <th>min</th>\n",
       "      <td>6.000000</td>\n",
       "      <td>0.000000</td>\n",
       "      <td>0.000000</td>\n",
       "      <td>0.000000</td>\n",
       "      <td>0.000000</td>\n",
       "      <td>0.000000</td>\n",
       "    </tr>\n",
       "    <tr>\n",
       "      <th>25%</th>\n",
       "      <td>39.000000</td>\n",
       "      <td>0.000000</td>\n",
       "      <td>21.000000</td>\n",
       "      <td>0.000000</td>\n",
       "      <td>35.000000</td>\n",
       "      <td>0.000000</td>\n",
       "    </tr>\n",
       "    <tr>\n",
       "      <th>50%</th>\n",
       "      <td>55.000000</td>\n",
       "      <td>1.000000</td>\n",
       "      <td>31.000000</td>\n",
       "      <td>0.000000</td>\n",
       "      <td>54.000000</td>\n",
       "      <td>1.000000</td>\n",
       "    </tr>\n",
       "    <tr>\n",
       "      <th>75%</th>\n",
       "      <td>79.000000</td>\n",
       "      <td>1.000000</td>\n",
       "      <td>40.000000</td>\n",
       "      <td>0.000000</td>\n",
       "      <td>79.000000</td>\n",
       "      <td>1.000000</td>\n",
       "    </tr>\n",
       "    <tr>\n",
       "      <th>max</th>\n",
       "      <td>500.000000</td>\n",
       "      <td>5.000000</td>\n",
       "      <td>235.000000</td>\n",
       "      <td>4.000000</td>\n",
       "      <td>500.000000</td>\n",
       "      <td>5.000000</td>\n",
       "    </tr>\n",
       "  </tbody>\n",
       "</table>\n",
       "</div>"
      ],
      "text/plain": [
       "          AQI Value  AQI Category  Ozone AQI Value  Ozone AQI Category  \\\n",
       "count  23463.000000  23463.000000     23463.000000        23463.000000   \n",
       "mean      72.010868      0.903422        35.193709            0.164259   \n",
       "std       56.055220      1.049763        28.098723            0.556613   \n",
       "min        6.000000      0.000000         0.000000            0.000000   \n",
       "25%       39.000000      0.000000        21.000000            0.000000   \n",
       "50%       55.000000      1.000000        31.000000            0.000000   \n",
       "75%       79.000000      1.000000        40.000000            0.000000   \n",
       "max      500.000000      5.000000       235.000000            4.000000   \n",
       "\n",
       "       PM2.5 AQI Value  PM2.5 AQI Category  \n",
       "count     23463.000000        23463.000000  \n",
       "mean         68.519755            0.877552  \n",
       "std          54.796443            1.033148  \n",
       "min           0.000000            0.000000  \n",
       "25%          35.000000            0.000000  \n",
       "50%          54.000000            1.000000  \n",
       "75%          79.000000            1.000000  \n",
       "max         500.000000            5.000000  "
      ]
     },
     "execution_count": 26,
     "metadata": {},
     "output_type": "execute_result"
    }
   ],
   "source": [
    "df = df.replace({'Good': 0, 'Moderate': 1, 'Unhealthy for Sensitive Groups': 2, 'Unhealthy': 3, 'Very Unhealthy': 4, 'Hazardous': 5})\n",
    "df.describe()"
   ]
  },
  {
   "cell_type": "code",
   "execution_count": 27,
   "id": "8fe99b09",
   "metadata": {
    "scrolled": false
   },
   "outputs": [
    {
     "data": {
      "text/html": [
       "<div>\n",
       "<style scoped>\n",
       "    .dataframe tbody tr th:only-of-type {\n",
       "        vertical-align: middle;\n",
       "    }\n",
       "\n",
       "    .dataframe tbody tr th {\n",
       "        vertical-align: top;\n",
       "    }\n",
       "\n",
       "    .dataframe thead th {\n",
       "        text-align: right;\n",
       "    }\n",
       "</style>\n",
       "<table border=\"1\" class=\"dataframe\">\n",
       "  <thead>\n",
       "    <tr style=\"text-align: right;\">\n",
       "      <th></th>\n",
       "      <th>Country</th>\n",
       "      <th>City</th>\n",
       "      <th>AQI Value</th>\n",
       "      <th>AQI Category</th>\n",
       "      <th>Ozone AQI Value</th>\n",
       "      <th>Ozone AQI Category</th>\n",
       "      <th>PM2.5 AQI Value</th>\n",
       "      <th>PM2.5 AQI Category</th>\n",
       "    </tr>\n",
       "  </thead>\n",
       "  <tbody>\n",
       "    <tr>\n",
       "      <th>512</th>\n",
       "      <td>Bolivia (Plurinational State of)</td>\n",
       "      <td>El Torno</td>\n",
       "      <td>6</td>\n",
       "      <td>0</td>\n",
       "      <td>5</td>\n",
       "      <td>0</td>\n",
       "      <td>6</td>\n",
       "      <td>0</td>\n",
       "    </tr>\n",
       "    <tr>\n",
       "      <th>9194</th>\n",
       "      <td>Ecuador</td>\n",
       "      <td>Macas</td>\n",
       "      <td>7</td>\n",
       "      <td>0</td>\n",
       "      <td>7</td>\n",
       "      <td>0</td>\n",
       "      <td>7</td>\n",
       "      <td>0</td>\n",
       "    </tr>\n",
       "    <tr>\n",
       "      <th>23269</th>\n",
       "      <td>Papua New Guinea</td>\n",
       "      <td>Tari</td>\n",
       "      <td>8</td>\n",
       "      <td>0</td>\n",
       "      <td>8</td>\n",
       "      <td>0</td>\n",
       "      <td>7</td>\n",
       "      <td>0</td>\n",
       "    </tr>\n",
       "    <tr>\n",
       "      <th>14502</th>\n",
       "      <td>Ecuador</td>\n",
       "      <td>Azogues</td>\n",
       "      <td>8</td>\n",
       "      <td>0</td>\n",
       "      <td>7</td>\n",
       "      <td>0</td>\n",
       "      <td>8</td>\n",
       "      <td>0</td>\n",
       "    </tr>\n",
       "    <tr>\n",
       "      <th>7486</th>\n",
       "      <td>Peru</td>\n",
       "      <td>Huaraz</td>\n",
       "      <td>9</td>\n",
       "      <td>0</td>\n",
       "      <td>9</td>\n",
       "      <td>0</td>\n",
       "      <td>8</td>\n",
       "      <td>0</td>\n",
       "    </tr>\n",
       "  </tbody>\n",
       "</table>\n",
       "</div>"
      ],
      "text/plain": [
       "                                Country      City  AQI Value  AQI Category  \\\n",
       "512    Bolivia (Plurinational State of)  El Torno          6             0   \n",
       "9194                            Ecuador     Macas          7             0   \n",
       "23269                  Papua New Guinea      Tari          8             0   \n",
       "14502                           Ecuador   Azogues          8             0   \n",
       "7486                               Peru    Huaraz          9             0   \n",
       "\n",
       "       Ozone AQI Value  Ozone AQI Category  PM2.5 AQI Value  \\\n",
       "512                  5                   0                6   \n",
       "9194                 7                   0                7   \n",
       "23269                8                   0                7   \n",
       "14502                7                   0                8   \n",
       "7486                 9                   0                8   \n",
       "\n",
       "       PM2.5 AQI Category  \n",
       "512                     0  \n",
       "9194                    0  \n",
       "23269                   0  \n",
       "14502                   0  \n",
       "7486                    0  "
      ]
     },
     "execution_count": 27,
     "metadata": {},
     "output_type": "execute_result"
    }
   ],
   "source": [
    "df.head()"
   ]
  },
  {
   "cell_type": "markdown",
   "id": "0b983fb4",
   "metadata": {},
   "source": [
    "> ### Optimizing the DataFrame\n",
    "> How can we turn the table smaller and keep the data, altering as little as possible?"
   ]
  },
  {
   "cell_type": "markdown",
   "id": "8cb07541",
   "metadata": {},
   "source": [
    "> Let's sum all the AQI values into a new column"
   ]
  },
  {
   "cell_type": "code",
   "execution_count": 28,
   "id": "58aa050e",
   "metadata": {},
   "outputs": [
    {
     "data": {
      "text/html": [
       "<div>\n",
       "<style scoped>\n",
       "    .dataframe tbody tr th:only-of-type {\n",
       "        vertical-align: middle;\n",
       "    }\n",
       "\n",
       "    .dataframe tbody tr th {\n",
       "        vertical-align: top;\n",
       "    }\n",
       "\n",
       "    .dataframe thead th {\n",
       "        text-align: right;\n",
       "    }\n",
       "</style>\n",
       "<table border=\"1\" class=\"dataframe\">\n",
       "  <thead>\n",
       "    <tr style=\"text-align: right;\">\n",
       "      <th></th>\n",
       "      <th>Country</th>\n",
       "      <th>City</th>\n",
       "      <th>AQI Value</th>\n",
       "      <th>AQI Category</th>\n",
       "      <th>Ozone AQI Value</th>\n",
       "      <th>Ozone AQI Category</th>\n",
       "      <th>PM2.5 AQI Value</th>\n",
       "      <th>PM2.5 AQI Category</th>\n",
       "      <th>Total AQI</th>\n",
       "    </tr>\n",
       "  </thead>\n",
       "  <tbody>\n",
       "    <tr>\n",
       "      <th>512</th>\n",
       "      <td>Bolivia (Plurinational State of)</td>\n",
       "      <td>El Torno</td>\n",
       "      <td>6</td>\n",
       "      <td>0</td>\n",
       "      <td>5</td>\n",
       "      <td>0</td>\n",
       "      <td>6</td>\n",
       "      <td>0</td>\n",
       "      <td>17</td>\n",
       "    </tr>\n",
       "    <tr>\n",
       "      <th>9194</th>\n",
       "      <td>Ecuador</td>\n",
       "      <td>Macas</td>\n",
       "      <td>7</td>\n",
       "      <td>0</td>\n",
       "      <td>7</td>\n",
       "      <td>0</td>\n",
       "      <td>7</td>\n",
       "      <td>0</td>\n",
       "      <td>21</td>\n",
       "    </tr>\n",
       "    <tr>\n",
       "      <th>23269</th>\n",
       "      <td>Papua New Guinea</td>\n",
       "      <td>Tari</td>\n",
       "      <td>8</td>\n",
       "      <td>0</td>\n",
       "      <td>8</td>\n",
       "      <td>0</td>\n",
       "      <td>7</td>\n",
       "      <td>0</td>\n",
       "      <td>23</td>\n",
       "    </tr>\n",
       "    <tr>\n",
       "      <th>14502</th>\n",
       "      <td>Ecuador</td>\n",
       "      <td>Azogues</td>\n",
       "      <td>8</td>\n",
       "      <td>0</td>\n",
       "      <td>7</td>\n",
       "      <td>0</td>\n",
       "      <td>8</td>\n",
       "      <td>0</td>\n",
       "      <td>23</td>\n",
       "    </tr>\n",
       "    <tr>\n",
       "      <th>7486</th>\n",
       "      <td>Peru</td>\n",
       "      <td>Huaraz</td>\n",
       "      <td>9</td>\n",
       "      <td>0</td>\n",
       "      <td>9</td>\n",
       "      <td>0</td>\n",
       "      <td>8</td>\n",
       "      <td>0</td>\n",
       "      <td>26</td>\n",
       "    </tr>\n",
       "    <tr>\n",
       "      <th>7792</th>\n",
       "      <td>Peru</td>\n",
       "      <td>Huancavelica</td>\n",
       "      <td>10</td>\n",
       "      <td>0</td>\n",
       "      <td>2</td>\n",
       "      <td>0</td>\n",
       "      <td>10</td>\n",
       "      <td>0</td>\n",
       "      <td>22</td>\n",
       "    </tr>\n",
       "    <tr>\n",
       "      <th>11769</th>\n",
       "      <td>Colombia</td>\n",
       "      <td>Puerto Asis</td>\n",
       "      <td>10</td>\n",
       "      <td>0</td>\n",
       "      <td>4</td>\n",
       "      <td>0</td>\n",
       "      <td>10</td>\n",
       "      <td>0</td>\n",
       "      <td>24</td>\n",
       "    </tr>\n",
       "    <tr>\n",
       "      <th>3564</th>\n",
       "      <td>Ecuador</td>\n",
       "      <td>Nueva Loja</td>\n",
       "      <td>10</td>\n",
       "      <td>0</td>\n",
       "      <td>5</td>\n",
       "      <td>0</td>\n",
       "      <td>10</td>\n",
       "      <td>0</td>\n",
       "      <td>25</td>\n",
       "    </tr>\n",
       "    <tr>\n",
       "      <th>15578</th>\n",
       "      <td>Peru</td>\n",
       "      <td>Junin</td>\n",
       "      <td>10</td>\n",
       "      <td>0</td>\n",
       "      <td>6</td>\n",
       "      <td>0</td>\n",
       "      <td>10</td>\n",
       "      <td>0</td>\n",
       "      <td>26</td>\n",
       "    </tr>\n",
       "    <tr>\n",
       "      <th>9607</th>\n",
       "      <td>Indonesia</td>\n",
       "      <td>Manokwari</td>\n",
       "      <td>10</td>\n",
       "      <td>0</td>\n",
       "      <td>10</td>\n",
       "      <td>0</td>\n",
       "      <td>10</td>\n",
       "      <td>0</td>\n",
       "      <td>30</td>\n",
       "    </tr>\n",
       "    <tr>\n",
       "      <th>16830</th>\n",
       "      <td>Colombia</td>\n",
       "      <td>Guapi</td>\n",
       "      <td>10</td>\n",
       "      <td>0</td>\n",
       "      <td>10</td>\n",
       "      <td>0</td>\n",
       "      <td>10</td>\n",
       "      <td>0</td>\n",
       "      <td>30</td>\n",
       "    </tr>\n",
       "    <tr>\n",
       "      <th>22183</th>\n",
       "      <td>Brazil</td>\n",
       "      <td>Correntina</td>\n",
       "      <td>11</td>\n",
       "      <td>0</td>\n",
       "      <td>11</td>\n",
       "      <td>0</td>\n",
       "      <td>3</td>\n",
       "      <td>0</td>\n",
       "      <td>25</td>\n",
       "    </tr>\n",
       "  </tbody>\n",
       "</table>\n",
       "</div>"
      ],
      "text/plain": [
       "                                Country          City  AQI Value  \\\n",
       "512    Bolivia (Plurinational State of)      El Torno          6   \n",
       "9194                            Ecuador         Macas          7   \n",
       "23269                  Papua New Guinea          Tari          8   \n",
       "14502                           Ecuador       Azogues          8   \n",
       "7486                               Peru        Huaraz          9   \n",
       "7792                               Peru  Huancavelica         10   \n",
       "11769                          Colombia   Puerto Asis         10   \n",
       "3564                            Ecuador    Nueva Loja         10   \n",
       "15578                              Peru         Junin         10   \n",
       "9607                          Indonesia     Manokwari         10   \n",
       "16830                          Colombia         Guapi         10   \n",
       "22183                            Brazil    Correntina         11   \n",
       "\n",
       "       AQI Category  Ozone AQI Value  Ozone AQI Category  PM2.5 AQI Value  \\\n",
       "512               0                5                   0                6   \n",
       "9194              0                7                   0                7   \n",
       "23269             0                8                   0                7   \n",
       "14502             0                7                   0                8   \n",
       "7486              0                9                   0                8   \n",
       "7792              0                2                   0               10   \n",
       "11769             0                4                   0               10   \n",
       "3564              0                5                   0               10   \n",
       "15578             0                6                   0               10   \n",
       "9607              0               10                   0               10   \n",
       "16830             0               10                   0               10   \n",
       "22183             0               11                   0                3   \n",
       "\n",
       "       PM2.5 AQI Category  Total AQI  \n",
       "512                     0         17  \n",
       "9194                    0         21  \n",
       "23269                   0         23  \n",
       "14502                   0         23  \n",
       "7486                    0         26  \n",
       "7792                    0         22  \n",
       "11769                   0         24  \n",
       "3564                    0         25  \n",
       "15578                   0         26  \n",
       "9607                    0         30  \n",
       "16830                   0         30  \n",
       "22183                   0         25  "
      ]
     },
     "execution_count": 28,
     "metadata": {},
     "output_type": "execute_result"
    }
   ],
   "source": [
    "df['Total AQI'] = df.iloc[:, [2, 4, 6]].sum(axis=1)\n",
    "df.iloc[:12, :]"
   ]
  },
  {
   "cell_type": "code",
   "execution_count": 35,
   "id": "46143c96",
   "metadata": {},
   "outputs": [
    {
     "data": {
      "text/plain": [
       "<AxesSubplot: >"
      ]
     },
     "execution_count": 35,
     "metadata": {},
     "output_type": "execute_result"
    },
    {
     "data": {
      "image/png": "[encoded data removed]",
      "text/plain": [
       "<Figure size 640x480 with 2 Axes>"
      ]
     },
     "metadata": {},
     "output_type": "display_data"
    }
   ],
   "source": [
    "corr = df.iloc[:, [2, 4, 6, 8]].corr()\n",
    "plt.figure()\n",
    "sb.heatmap(data=corr, annot=True, cmap='Reds')"
   ]
  },
  {
   "cell_type": "markdown",
   "id": "79e8f5fe",
   "metadata": {},
   "source": [
    "> ## Plotting Bar Graph\n",
    "> Which are the best places in terms of air quality"
   ]
  },
  {
   "cell_type": "code",
   "execution_count": 30,
   "id": "0e9496bd",
   "metadata": {},
   "outputs": [
    {
     "data": {
      "image/png": "[encoded data removed]",
      "text/plain": [
       "<Figure size 640x480 with 1 Axes>"
      ]
     },
     "metadata": {},
     "output_type": "display_data"
    }
   ],
   "source": [
    "plt2 = sb.barplot(x='Total AQI', y='City', data=df.iloc[:9, [1,8]], palette='ocean_r')"
   ]
  },
  {
   "cell_type": "code",
   "execution_count": 31,
   "id": "af3d17e1",
   "metadata": {},
   "outputs": [
    {
     "data": {
      "image/png": "[encoded data removed]",
      "text/plain": [
       "<Figure size 640x480 with 1 Axes>"
      ]
     },
     "metadata": {},
     "output_type": "display_data"
    }
   ],
   "source": [
    "plt3 = sb.barplot(x='Total AQI', y='Country', data=df.iloc[:15, [0,8]], palette='ocean_r')"
   ]
  }
 ],
 "metadata": {
  "kernelspec": {
   "display_name": "Python 3 (ipykernel)",
   "language": "python",
   "name": "python3"
  },
  "language_info": {
   "codemirror_mode": {
    "name": "ipython",
    "version": 3
   },
   "file_extension": ".py",
   "mimetype": "text/x-python",
   "name": "python",
   "nbconvert_exporter": "python",
   "pygments_lexer": "ipython3",
   "version": "3.8.10"
  }
 },
 "nbformat": 4,
 "nbformat_minor": 5
}
